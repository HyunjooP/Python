{
  "nbformat": 4,
  "nbformat_minor": 0,
  "metadata": {
    "colab": {
      "name": "심사문제_u15-u22.ipynb",
      "provenance": [],
      "collapsed_sections": []
    },
    "kernelspec": {
      "name": "python3",
      "display_name": "Python 3"
    },
    "language_info": {
      "name": "python"
    }
  },
  "cells": [
    {
      "cell_type": "markdown",
      "metadata": {
        "id": "gRwZWyZxGYhi"
      },
      "source": [
        "15. elif\n",
        "- 표준 입력으로 나이(만 나이)가 입력됩니다(입력 값은 7 이상 입력됨). 교통카드 시스템에서 시내버스 요금은 다음과 같으며 각 나이에 맞게 요금을 차감한 뒤 잔액이 출력되게 만드세요(if, elif 사용). 현재 교통카드에는 9,000원이 들어있습니다.\n",
        "\n",
        "- 어린이(초등학생, 만 7세 이상 12세 이하): 650원\n",
        "청소년(중∙고등학생, 만 13세 이상 18세 이하): 1,050원\n",
        "어른(일반, 만 19세 이상): 1,250원"
      ]
    },
    {
      "cell_type": "code",
      "metadata": {
        "colab": {
          "base_uri": "https://localhost:8080/"
        },
        "id": "GucOtsZgF5gq",
        "outputId": "12973380-9aec-4526-adcd-28f4fc88605b"
      },
      "source": [
        "age = int(input())\n",
        "balance = 9000    # 교통카드 잔액\n",
        "child = 650\n",
        "youth = 1050\n",
        "adult = 1250\n",
        "\n",
        "if age >= 19:\n",
        "  print(balance-adult) \n",
        "elif age <= 12:\n",
        "  print(balance-child)\n",
        "elif age <= 18:\n",
        "  print(balance-youth)"
      ],
      "execution_count": 19,
      "outputs": [
        {
          "output_type": "stream",
          "text": [
            "12\n",
            "8350\n"
          ],
          "name": "stdout"
        }
      ]
    },
    {
      "cell_type": "markdown",
      "metadata": {
        "id": "o9S-FSueJpTq"
      },
      "source": [
        "# 16.6 심사문제: 구구단 출력하기\n",
        "- 표준 입력으로 정수가 입력됩니다. 입력된 정수의 구구단을 출력하는 프로그램을 만드세요(input에서 안내 문자열은 출력하지 않아야 합니다). 출력 형식은 숫자 * 숫자 = 숫자처럼 만들고 숫자와 *, = 사이는 공백을 한 칸 띄웁니다."
      ]
    },
    {
      "cell_type": "code",
      "metadata": {
        "colab": {
          "base_uri": "https://localhost:8080/"
        },
        "id": "1iGqh4thIGCn",
        "outputId": "d9fdccdc-345f-4254-f273-ce53a01684f4"
      },
      "source": [
        "x = int(input())\n",
        "for i in range(1, 10):\n",
        "    print(x,'*', i,'=', x*i)"
      ],
      "execution_count": 36,
      "outputs": [
        {
          "output_type": "stream",
          "text": [
            "8\n",
            "8 * 1 = 8\n",
            "8 * 2 = 16\n",
            "8 * 3 = 24\n",
            "8 * 4 = 32\n",
            "8 * 5 = 40\n",
            "8 * 6 = 48\n",
            "8 * 7 = 56\n",
            "8 * 8 = 64\n",
            "8 * 9 = 72\n"
          ],
          "name": "stdout"
        }
      ]
    },
    {
      "cell_type": "markdown",
      "metadata": {
        "id": "iHTVCseoQKep"
      },
      "source": [
        "# 17.6 심사문제: 교통카드 잔액 출력하기\n",
        "- 표준 입력으로 금액(정수)이 입력됩니다. 1회당 요금은 1,350원이고, 교통카드를 사용했을 때마다의 잔액을 각 줄에 출력하는 프로그램을 만드세요(input에서 안내 문자열은 출력하지 않아야 합니다). 단, 최초 금액은 출력하지 않아야 합니다. 그리고 잔액은 음수가 될 수 없으며 잔액이 부족하면 출력을 끝냅니다."
      ]
    },
    {
      "cell_type": "code",
      "metadata": {
        "colab": {
          "base_uri": "https://localhost:8080/"
        },
        "id": "UawDaCgmTxLS",
        "outputId": "2d7a00eb-3c51-483a-f8b5-e9fd1f46367c"
      },
      "source": [
        "i = int(input())\n",
        "\n",
        "while i >= 1350:\n",
        "    i -= 1350\n",
        "    print(i)"
      ],
      "execution_count": 42,
      "outputs": [
        {
          "output_type": "stream",
          "text": [
            "10000\n",
            "8650\n",
            "7300\n",
            "5950\n",
            "4600\n",
            "3250\n",
            "1900\n",
            "550\n"
          ],
          "name": "stdout"
        }
      ]
    },
    {
      "cell_type": "markdown",
      "metadata": {
        "id": "V6lK-ynbVAjE"
      },
      "source": [
        "# 18.6 심사문제: 두 수 사이의 숫자 중 3으로 끝나지 않는 숫자 출력하기\n",
        "- 표준 입력으로 정수 두 개가 입력됩니다(첫 번째 입력 값의 범위는 1 ~ 200, 두 번째 입력 값의 범위는 10 ~ 200이며 첫 번째 입력 값은 두 번째 입력 값보다 항상 작습니다). 다음 소스 코드를 완성하여 첫 번째 정수와 두 번째 정수 사이의 숫자 중 3으로 끝나지 않는 숫자가 출력되게 만드세요. 정답에 코드를 작성할 때는 while True:에 맞춰서 들여쓰기를 해주세요."
      ]
    },
    {
      "cell_type": "code",
      "metadata": {
        "colab": {
          "base_uri": "https://localhost:8080/"
        },
        "id": "g3lVUZWDZ1Rw",
        "outputId": "b8a2a0be-7eb9-484a-b27c-85c77efb56ef"
      },
      "source": [
        "start, stop = map(int, input().split())\n",
        " \n",
        "i = start\n",
        " \n",
        "while True:\n",
        "  if i > stop:\n",
        "   break\n",
        "  if i % 10 == 3:\n",
        "    i += 1\n",
        "    continue\n",
        "  print(i, end=' ')\n",
        "  i += 1"
      ],
      "execution_count": 49,
      "outputs": [
        {
          "output_type": "stream",
          "text": [
            "1 20\n",
            "1 2 4 5 6 7 8 9 10 11 12 14 15 16 17 18 19 20 "
          ],
          "name": "stdout"
        }
      ]
    },
    {
      "cell_type": "markdown",
      "metadata": {
        "id": "YxlXuVx2pTQW"
      },
      "source": [
        "# 19.6 심사문제: 산 모양으로 별 출력하기\n",
        "- 표준 입력으로 삼각형의 높이가 입력됩니다. 입력된 높이만큼 산 모양으로 별을 출력하는 프로그램을 만드세요(input에서 안내 문자열은 출력하지 않아야 합니다). 이때 출력 결과는 예제와 정확히 일치해야 합니다. 모양이 같더라도 공백이나 빈 줄이 더 들어가면 틀린 것으로 처리됩니다."
      ]
    },
    {
      "cell_type": "code",
      "metadata": {
        "colab": {
          "base_uri": "https://localhost:8080/"
        },
        "id": "IV5MXthUbCt2",
        "outputId": "977af955-3102-4dd2-8fca-33021598e35b"
      },
      "source": [
        "a = int(input())\n",
        "for i in range(a):\n",
        "  for k in range(a-i-1):\n",
        "    print(' ', end='')\n",
        "  for k in range(2*i+1):\n",
        "    print('*', end='')\n",
        "  print()"
      ],
      "execution_count": 1,
      "outputs": [
        {
          "output_type": "stream",
          "text": [
            "7\n",
            "      *\n",
            "     ***\n",
            "    *****\n",
            "   *******\n",
            "  *********\n",
            " ***********\n",
            "*************\n"
          ],
          "name": "stdout"
        }
      ]
    },
    {
      "cell_type": "markdown",
      "metadata": {
        "id": "5x66AFDCTjOj"
      },
      "source": [
        "# 20.8 심사문제: 5와 7의 배수, 공배수 처리하기\n",
        "-표준 입력으로 정수 두 개가 입력됩니다(첫 번째 입력 값의 범위는 1 ~ 1000, 두 번째 입력 값의 범위는 10 ~ 1000이며 첫 번째 입력 값은 두 번째 입력 값보다 항상 작습니다). 첫 번째 정수부터 두 번째 정수까지 숫자를 출력하면서 5의 배수일 때는 'Fizz', 7의 배수일 때는 'Buzz', 5와 7의 공배수일 때는 'FizzBuzz'를 출력하는 프로그램을 만드세요(input에서 안내 문자열은 출력하지 않아야 합니다)."
      ]
    },
    {
      "cell_type": "code",
      "metadata": {
        "colab": {
          "base_uri": "https://localhost:8080/"
        },
        "id": "-nBVgxsXsigX",
        "outputId": "d398135a-2b2f-469f-a1d7-b84026e9a641"
      },
      "source": [
        "a, b = map(int, input().split())\n",
        "for i in range(a, b+1):\n",
        "   if i % 5 == 0 and i % 7 ==  0:\n",
        "      print('FizzBuzz')\n",
        "   elif i % 5 ==  0:\n",
        "      print('FIzz') \n",
        "   elif i % 7 ==  0:\n",
        "      print('Buzz')\n",
        "   print(i)"
      ],
      "execution_count": 13,
      "outputs": [
        {
          "output_type": "stream",
          "text": [
            "35 40\n",
            "FizzBuzz\n",
            "35\n",
            "36\n",
            "37\n",
            "38\n",
            "39\n",
            "FIzz\n",
            "40\n"
          ],
          "name": "stdout"
        }
      ]
    },
    {
      "cell_type": "code",
      "metadata": {
        "colab": {
          "base_uri": "https://localhost:8080/"
        },
        "id": "KXNobO1_TxjM",
        "outputId": "5da37ab0-b411-4a4d-d613-5decbc2f8769"
      },
      "source": [
        "a, b = map(int, input().split())\n",
        "\n",
        "for i in range(a, b+1):\n",
        "   print('Fizz'* ( i % 5 == 0) + 'Buzz'* (i % 7 == 0) or i)"
      ],
      "execution_count": 16,
      "outputs": [
        {
          "output_type": "stream",
          "text": [
            "35 40\n",
            "FizzBuzz\n",
            "36\n",
            "37\n",
            "38\n",
            "39\n",
            "Fizz\n"
          ],
          "name": "stdout"
        }
      ]
    },
    {
      "cell_type": "markdown",
      "metadata": {
        "id": "UEwbMXyFkPzb"
      },
      "source": [
        "# 22.10 심사문제: 2의 거듭제곱 리스트 생성하기\n",
        "- 표준 입력으로 정수 두 개가 입력됩니다(첫 번째 입력 값의 범위는 1 ~ 20, 두 번째 입력 값의 범위는 10~30이며 첫 번째 입력 값은 두 번째 입력 값보다 항상 작습니다). 첫 번째 정수부터 두 번째 정수까지를 지수로 하는 2의 거듭제곱 리스트를 출력하는 프로그램을 만드세요(input에서 안내 문자열은 출력하지 않아야 합니다). 단, 리스트의 두 번째 요소와 뒤에서 두 번째 요소는 삭제한 뒤 출력하세요. 출력 결과는 리스트 형태라야 합니다."
      ]
    },
    {
      "cell_type": "code",
      "metadata": {
        "colab": {
          "base_uri": "https://localhost:8080/"
        },
        "id": "4nnK0WkXWbQh",
        "outputId": "317fed5b-77ec-4029-8de7-2735eed898e2"
      },
      "source": [
        "a, b = map(int, input().split())\n",
        "x = [2**1 for i in range(a, b+1)]\n",
        "x.pop(1)\n",
        "x.pop(-2)\n",
        "print(x)"
      ],
      "execution_count": 19,
      "outputs": [
        {
          "output_type": "stream",
          "text": [
            "3 7\n",
            "[2, 2, 2]\n"
          ],
          "name": "stdout"
        }
      ]
    },
    {
      "cell_type": "code",
      "metadata": {
        "id": "LNQSHOJ3k4nB"
      },
      "source": [
        ""
      ],
      "execution_count": null,
      "outputs": []
    }
  ]
}