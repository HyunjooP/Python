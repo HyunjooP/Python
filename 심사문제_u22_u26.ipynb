{
  "nbformat": 4,
  "nbformat_minor": 0,
  "metadata": {
    "colab": {
      "name": "심사문제_u22_u26.ipynb",
      "provenance": [],
      "collapsed_sections": []
    },
    "kernelspec": {
      "name": "python3",
      "display_name": "Python 3"
    },
    "language_info": {
      "name": "python"
    }
  },
  "cells": [
    {
      "cell_type": "markdown",
      "metadata": {
        "id": "yZV_WY0yGVVR"
      },
      "source": [
        "# 22.10 심사문제: 2의 거듭제곱 리스트 생성하기\n",
        "- 표준 입력으로 정수 두 개가 입력됩니다(첫 번째 입력 값의 범위는 1 ~ 20, 두 번째 입력 값의 범위는 10 ~ 30이며 첫 번째 입력 값은 두 번째 입력 값보다 항상 작습니다). 첫 번째 정수부터 두 번째 정수까지를 지수로 하는 2의 거듭제곱 리스트를 출력하는 프로그램을 만드세요(input에서 안내 문자열은 출력하지 않아야 합니다). 단, 리스트의 두 번째 요소와 뒤에서 두 번째 요소는 삭제한 뒤 출력하세요. 출력 결과는 리스트 형태라야 합니다."
      ]
    },
    {
      "cell_type": "code",
      "metadata": {
        "colab": {
          "base_uri": "https://localhost:8080/"
        },
        "id": "1wqekckiF6Cr",
        "outputId": "de1ee5f7-f7ec-4207-d28e-4c15cebe29aa"
      },
      "source": [
        "a, b = map(int, input().split())\n",
        "x = [2**i for i in range(a, b+1)]\n",
        "x.pop(1)\n",
        "x.pop(-2)\n",
        "print(x)"
      ],
      "execution_count": null,
      "outputs": [
        {
          "output_type": "stream",
          "text": [
            "10 20\n",
            "[1024, 4096, 8192, 16384, 32768, 65536, 131072, 262144, 1048576]\n"
          ],
          "name": "stdout"
        }
      ]
    },
    {
      "cell_type": "markdown",
      "metadata": {
        "id": "Jl1Nh1Z-ImSI"
      },
      "source": [
        "# 23.7 심사문제: 지뢰찾기\n",
        "- 표준 입력으로 2차원 리스트의 가로(col)와 세로(row)가 입력되고 그 다음 줄부터 리스트의 요소로 들어갈 문자가 입력됩니다. 이때 2차원 리스트 안에서 *는 지뢰이고 .은 지뢰가 아닙니다. 지뢰가 아닌 요소에는 인접한 지뢰의 개수를 출력하는 프로그램을 만드세요(input에서 안내 문자열은 출력하지 않아야 합니다).\n",
        "\n",
        "여러 줄을 입력 받으려면 다음과 같이 for 반복문에서 input을 호출한 뒤 append로 각 줄을 추가하면 됩니다(list 안에 문자열을 넣으면 문자열이 문자 리스트로 변환됩니다).\n",
        "- 이 문제는 지금까지 심사문제 중에서 가장 어렵습니다. 처음 풀어보는 경우 대략 두 시간은 걸립니다. 시간을 두고 천천히 고민해서 풀어보세요. 지금까지 학습한 내용을 모두 동원해야 풀 수 있으며 막힐 때는 지금까지 학습한 내용을 다시 복습하면서 힌트를 찾아보세요."
      ]
    },
    {
      "cell_type": "code",
      "metadata": {
        "id": "riM-Xn_QGabt"
      },
      "source": [
        "matrix = []\n",
        "for i in range(row):\n",
        "    matrix.append(list(input()))"
      ],
      "execution_count": null,
      "outputs": []
    },
    {
      "cell_type": "markdown",
      "metadata": {
        "id": "Hemw32w9Iw-I"
      },
      "source": [
        "# 24.5 심사문제: 특정 단어 개수 세기\n",
        "- 표준 입력으로 문자열이 입력됩니다. 입력된 문자열에서 'the'의 개수를 출력하는 프로그램을 만드세요(input에서 안내 문자열은 출력하지 않아야 합니다). 단, 모든 문자가 소문자인 'the'만 찾으면 되며 'them', 'there', 'their' 등은 포함하지 않아야 합니다."
      ]
    },
    {
      "cell_type": "code",
      "metadata": {
        "id": "L0ecJWOoI7ym",
        "colab": {
          "base_uri": "https://localhost:8080/"
        },
        "outputId": "d58cdd28-27c5-4469-c9f3-1ed35107578f"
      },
      "source": [
        "x = input().split()\n",
        "\n",
        "count = 0\n",
        "\n",
        "for i in x:\n",
        "  if i.strip('.,') == 'the':\n",
        "    count += 1\n",
        "\n",
        "print(count)\n"
      ],
      "execution_count": 15,
      "outputs": [
        {
          "output_type": "stream",
          "text": [
            "the grown-ups' response, this time, was to advise me to lay aside my drawings of boa constrictors, whether from the inside or the outside, and devote myself instead to geography, history, arithmetic, and grammar. That is why, at the, age of six, I gave up what might have been a magnificent career as a painter. I had been disheartened by the failure of my Drawing Number One and my Drawing Number Two. Grown-ups never understand anything by themselves, and it is tiresome for children to be always and forever explaining things to the.\n",
            "6\n"
          ],
          "name": "stdout"
        }
      ]
    },
    {
      "cell_type": "code",
      "metadata": {
        "id": "v-FGb0xrQuW2"
      },
      "source": [
        ""
      ],
      "execution_count": null,
      "outputs": []
    }
  ]
}