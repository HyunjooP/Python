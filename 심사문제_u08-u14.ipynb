{
  "nbformat": 4,
  "nbformat_minor": 0,
  "metadata": {
    "colab": {
      "name": "6회차_박현주.ipynb",
      "provenance": [],
      "collapsed_sections": [
        "a64_avl0xTkw",
        "VyLpvN0I3-vn",
        "vGO5Abtm5ztE",
        "QjsVbAp185Ey",
        "h6MmUBqZAtbN",
        "JvoFbmwPBBX_",
        "0vBSdImNBBOc",
        "iRluAtzuBBG1"
      ]
    },
    "kernelspec": {
      "name": "python3",
      "display_name": "Python 3"
    },
    "language_info": {
      "name": "python"
    }
  },
  "cells": [
    {
      "cell_type": "markdown",
      "metadata": {
        "id": "a64_avl0xTkw"
      },
      "source": [
        "# 8.5 심사문제: 합격 여부 출력하기\n",
        "- 표준 입력으로 국어, 영어, 수학, 과학 점수가 입력됩니다. 국어는 90점 이상, 영어는 80점 초과, 수학은 85점 초과, 과학은 80점 이상일 때 합격이라고 정했습니다(한 과목이라도 조건에 만족하지 않으면 불합격). 다음 소스 코드를 완성하여 합격이면 True, 불합격이면 False가 출력되게 만드세요(input에서 안내 문자열은 출력하지 않아야 합니다)."
      ]
    },
    {
      "cell_type": "code",
      "metadata": {
        "id": "2KfgryC13cAh"
      },
      "source": [
        "a, b, c, d = map(int, input('점수 입력 ').split())\n",
        "print(a >= 90 and b > 80 and c > 85 and d >= 80)"
      ],
      "execution_count": null,
      "outputs": []
    },
    {
      "cell_type": "markdown",
      "metadata": {
        "id": "VyLpvN0I3-vn"
      },
      "source": [
        "# 9.4 심사문제: 여러 줄로 된 문자열 사용하기\n",
        "- 다음 소스 코드를 완성하여 실행 결과대로 문자열이 출력되게 만드세요."
      ]
    },
    {
      "cell_type": "code",
      "metadata": {
        "colab": {
          "base_uri": "https://localhost:8080/"
        },
        "id": "IZI3exw743Kr",
        "outputId": "3f5f2bca-edcc-4ee0-b215-aa51402c819e"
      },
      "source": [
        "s = '''Python is a programming language that lets you work quickly\n",
        "and\n",
        "integrate systems more effectively.'''\n",
        "\n",
        "print(s)"
      ],
      "execution_count": 26,
      "outputs": [
        {
          "output_type": "stream",
          "text": [
            "Python is a programming language that lets you work quickly\n",
            "and\n",
            "integrate systems more effectively.\n"
          ],
          "name": "stdout"
        }
      ]
    },
    {
      "cell_type": "markdown",
      "metadata": {
        "id": "vGO5Abtm5ztE"
      },
      "source": [
        "# 10.5 심사문제: range로 튜플 만들기\n",
        "- 표준 입력으로 정수가 입력됩니다. range의 시작하는 숫자는 -10, 끝나는 숫자는 10이며 입력된 정수만큼 증가하는 숫자가 들어가도록 튜플을 만들고, 해당 튜플을 출력하는 프로그램을 만드세요(input에서 안내 문자열은 출력하지 않아야 합니다)."
      ]
    },
    {
      "cell_type": "code",
      "metadata": {
        "id": "tgfJNfhM80UV"
      },
      "source": [
        "a = list(range(-10, 10, int(input())))\n",
        "print(a)"
      ],
      "execution_count": null,
      "outputs": []
    },
    {
      "cell_type": "markdown",
      "metadata": {
        "id": "QjsVbAp185Ey"
      },
      "source": [
        "# 11.8 심사문제: 리스트의 마지막 부분 삭제하기\n",
        "- 표준 입력으로 숫자 또는 문자열 여러 개가 입력되어 리스트 x에 저장됩니다(입력되는 숫자 또는 문자열의 개수는 정해져 있지 않음). 다음 소스 코드를 완성하여 리스트 x의 마지막 요소 5개를 삭제한 뒤 튜플로 출력되게 만드세요."
      ]
    },
    {
      "cell_type": "code",
      "metadata": {
        "id": "XKvAqseR-tJd"
      },
      "source": [
        "x = input().split()\n",
        "print(x[:-5])\n",
        "\n",
        "\n",
        "\n",
        "\n",
        "\n"
      ],
      "execution_count": null,
      "outputs": []
    },
    {
      "cell_type": "markdown",
      "metadata": {
        "id": "h6MmUBqZAtbN"
      },
      "source": [
        "# 11.9 심사문제: 문자열에서 인덱스가 홀수인 문자와 짝수인 문자 연결하기\n",
        "- 표준 입력으로 문자열 두 개가 각 줄에 입력됩니다(문자열의 길이는 정해져 있지 않음). 첫 번째 문자열에서 인덱스가 홀수인 문자와 두 번째 문자열에서 인덱스가 짝수인 문자를 연결하여 출력하는 프로그램을 만드세요(input에서 안내 문자열은 출력하지 않아야 합니다). 연결 순서는 첫 번째 문자열, 두 번째 문자열 순입니다. 그리고 0은 짝수로 처리합니다."
      ]
    },
    {
      "cell_type": "code",
      "metadata": {
        "id": "dALsNkEaDddq"
      },
      "source": [
        "x, y = input().split()\n",
        "x[1::2] + y[::2]"
      ],
      "execution_count": null,
      "outputs": []
    },
    {
      "cell_type": "markdown",
      "metadata": {
        "id": "JvoFbmwPBBX_"
      },
      "source": [
        "# 12.5 심사문제: 딕셔너리에 게임 캐릭터 능력치 저장하기\n",
        "- 표준 입력으로 문자열 여러 개와 숫자(실수) 여러 개가 두 줄로 입력됩니다. 입력된 첫 번째 줄은 키, 두 번째 줄은 값으로 하여 딕셔너리를 생성한 뒤 딕셔너리를 출력하는 프로그램을 만드세요. input().split()의 결과를 변수 한 개에 저장하면 리스트로 저장됩니다."
      ]
    },
    {
      "cell_type": "code",
      "metadata": {
        "colab": {
          "base_uri": "https://localhost:8080/"
        },
        "id": "pfz01lPMKeHY",
        "outputId": "bb264cda-dc5b-44ed-aec2-a8cf3b79b5c6"
      },
      "source": [
        "key = input(). split()\n",
        "value = map(float,(input().split()))\n",
        "character = dict(zip(key, value))\n",
        "print(character)"
      ],
      "execution_count": 91,
      "outputs": [
        {
          "output_type": "stream",
          "text": [
            " health health_regen mana mana_regen\n",
            "575.6 1.7 338.8 1.63\n",
            "{'health': 575.6, 'health_regen': 1.7, 'mana': 338.8, 'mana_regen': 1.63}\n"
          ],
          "name": "stdout"
        }
      ]
    },
    {
      "cell_type": "markdown",
      "metadata": {
        "id": "0vBSdImNBBOc"
      },
      "source": [
        "# 13.7 심사문제: 온라인 할인 쿠폰 시스템 만들기\n",
        "- 표준 입력으로 가격(정수)과 쿠폰 이름이 각 줄에 입력됩니다. Cash3000 쿠폰은 3,000원, Cash5000 쿠폰은 5,000원을 할인합니다. 쿠폰에 따라 할인된 가격을 출력하는 프로그램을 만드세요(input에서 안내 문자열은 출력하지 않아야 합니다)."
      ]
    },
    {
      "cell_type": "code",
      "metadata": {
        "colab": {
          "base_uri": "https://localhost:8080/"
        },
        "id": "xseULhXzLfzl",
        "outputId": "244ac31b-5b03-4af0-d2fc-a6799e7d85dc"
      },
      "source": [
        "price=int(input())\n",
        "coupon=str(input())\n",
        "if coupon == 'Cash3000':\n",
        "  price -= 3000\n",
        "elif coupon == 'Cash5000':\n",
        "  price -= 5000\n",
        "print(price)"
      ],
      "execution_count": 92,
      "outputs": [
        {
          "output_type": "stream",
          "text": [
            "27000\n",
            "Cash3000\n",
            "24000\n"
          ],
          "name": "stdout"
        }
      ]
    },
    {
      "cell_type": "markdown",
      "metadata": {
        "id": "iRluAtzuBBG1"
      },
      "source": [
        "# 14.7 심사문제: 합격 여부 판단하기\n",
        "- 표준 입력으로 국어, 영어, 수학, 과학 점수가 입력됩니다. 여기서 네 과목의 평균 점수가 80점 이상일 때 합격이라고 정했습니다. 평균 점수에 따라 '합격', '불합격'을 출력하는 프로그램을 만드세요(input에서 안내 문자열은 출력하지 않아야 합니다). 단, 점수는 0점부터 100점까지만 입력받을 수 있으며 범위를 벗어났다면 '잘못된 점수'를 출력하고 합격, 불합격 여부는 출력하지 않아야 합니다."
      ]
    },
    {
      "cell_type": "code",
      "metadata": {
        "colab": {
          "base_uri": "https://localhost:8080/"
        },
        "id": "evseb5-KLglg",
        "outputId": "9b72d015-5d06-4b6d-d654-93fe000c99c9"
      },
      "source": [
        "korean, english, mathematics, science = map(int, input().split())\n",
        "\n",
        "if korean < 0 or korean > 100 or english < 0 or english > 100 or mathematics < 0 or mathematics > 100 or science < 0 or science > 100:\n",
        "  print('잘못된 점수')\n",
        "else:\n",
        "  if (korean + english + mathematics + science) / 4 >= 80:\n",
        "    print('합격')\n",
        "  else:\n",
        "    print('불합격')"
      ],
      "execution_count": 93,
      "outputs": [
        {
          "output_type": "stream",
          "text": [
            "89 72 93 82\n",
            "합격\n"
          ],
          "name": "stdout"
        }
      ]
    }
  ]
}