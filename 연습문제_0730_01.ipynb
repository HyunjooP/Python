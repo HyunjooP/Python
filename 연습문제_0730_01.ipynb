{
  "nbformat": 4,
  "nbformat_minor": 0,
  "metadata": {
    "colab": {
      "name": "연습문제_0730.ipynb",
      "provenance": [],
      "collapsed_sections": []
    },
    "kernelspec": {
      "name": "python3",
      "display_name": "Python 3"
    },
    "language_info": {
      "name": "python"
    }
  },
  "cells": [
    {
      "cell_type": "markdown",
      "metadata": {
        "id": "miaFZNrGwqzr"
      },
      "source": [
        "# 피타고라스 수\n",
        "a+b+c=1000 인 피타고라스 수"
      ]
    },
    {
      "cell_type": "code",
      "metadata": {
        "colab": {
          "base_uri": "https://localhost:8080/"
        },
        "id": "M1BtYGBdwpwU",
        "outputId": "61d9ae8f-925c-40f8-d394-a119f51f3d32"
      },
      "source": [
        "for a in range(1, 333):\n",
        "    for b in range(a+1, 500):\n",
        "      c = 1000 - a - b\n",
        "      if c*c == a*a + b*b:\n",
        "          print(a, b, c)"
      ],
      "execution_count": 3,
      "outputs": [
        {
          "output_type": "stream",
          "text": [
            "200 375 425\n"
          ],
          "name": "stdout"
        }
      ]
    },
    {
      "cell_type": "code",
      "metadata": {
        "colab": {
          "base_uri": "https://localhost:8080/"
        },
        "id": "httsC3NdxPOb",
        "outputId": "f1eaeec8-33f7-4602-fcf3-c6619cbd2921"
      },
      "source": [
        "[(a, b, c) for a in range(1,333)\n",
        "              for b in range(a+1, 500)\n",
        "                for c in range(b+1, 1000)\n",
        "                  if a+b+c == 1000 and a*a+b*b == c*c] "
      ],
      "execution_count": 6,
      "outputs": [
        {
          "output_type": "execute_result",
          "data": {
            "text/plain": [
              "[(200, 375, 425)]"
            ]
          },
          "metadata": {
            "tags": []
          },
          "execution_count": 6
        }
      ]
    },
    {
      "cell_type": "markdown",
      "metadata": {
        "id": "nRaRj-YTxjCy"
      },
      "source": [
        "# 만 나이 구하기"
      ]
    },
    {
      "cell_type": "code",
      "metadata": {
        "id": "202XD3i-ybsx"
      },
      "source": [
        "from datetime import date\n",
        "today = date.today()"
      ],
      "execution_count": 7,
      "outputs": []
    },
    {
      "cell_type": "code",
      "metadata": {
        "colab": {
          "base_uri": "https://localhost:8080/"
        },
        "id": "OoLcGQNVyi3u",
        "outputId": "6f5a33ae-37f7-4d69-c44c-a1dd3040be37"
      },
      "source": [
        "year, month, day = map(int, input('생일 입력').split())\n",
        "year, month, day"
      ],
      "execution_count": 8,
      "outputs": [
        {
          "output_type": "stream",
          "text": [
            "생일 입력1986 11 15\n"
          ],
          "name": "stdout"
        },
        {
          "output_type": "execute_result",
          "data": {
            "text/plain": [
              "(1986, 11, 15)"
            ]
          },
          "metadata": {
            "tags": []
          },
          "execution_count": 8
        }
      ]
    },
    {
      "cell_type": "code",
      "metadata": {
        "id": "PtD8ln2ryxge"
      },
      "source": [
        "if month > today.month:\n",
        "    age = today.year - year - 1\n",
        "elif month < today.month:\n",
        "    age = today.year - year\n",
        "else:\n",
        "    if day > today.day:\n",
        "        age = today.year - year - 1\n",
        "    else:\n",
        "        age = today.year - year\n",
        "print(f'만 나이는 {age} 입니다.')"
      ],
      "execution_count": null,
      "outputs": []
    },
    {
      "cell_type": "markdown",
      "metadata": {
        "id": "CRE7QECdy82F"
      },
      "source": [
        "# 디지털 시계\n",
        "하루 시간을 초로 환산"
      ]
    },
    {
      "cell_type": "code",
      "metadata": {
        "colab": {
          "base_uri": "https://localhost:8080/"
        },
        "id": "CRLwJxBqy-Or",
        "outputId": "a92c36ea-1d6e-4250-e2aa-a01d34189554"
      },
      "source": [
        "total_seconds = 0\n",
        "for hour in range(24):\n",
        "    for min in range(60):\n",
        "      time = f'{hour:02d}:{min:02d}'\n",
        "      if '3' in time:\n",
        "          total_seconds += 60\n",
        "print(total_seconds)"
      ],
      "execution_count": 10,
      "outputs": [
        {
          "output_type": "stream",
          "text": [
            "29700\n"
          ],
          "name": "stdout"
        }
      ]
    },
    {
      "cell_type": "code",
      "metadata": {
        "id": "t8u9SkbzzQ_L"
      },
      "source": [
        ""
      ],
      "execution_count": null,
      "outputs": []
    }
  ]
}